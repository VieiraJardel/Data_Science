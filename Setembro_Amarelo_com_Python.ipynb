{
  "nbformat": 4,
  "nbformat_minor": 0,
  "metadata": {
    "colab": {
      "provenance": [],
      "authorship_tag": "ABX9TyMaj3aHBCGU5ih5+tdLRr8j",
      "include_colab_link": true
    },
    "kernelspec": {
      "name": "python3",
      "display_name": "Python 3"
    },
    "language_info": {
      "name": "python"
    }
  },
  "cells": [
    {
      "cell_type": "markdown",
      "metadata": {
        "id": "view-in-github",
        "colab_type": "text"
      },
      "source": [
        "<a href=\"https://colab.research.google.com/github/VieiraJardel/Data_Science/blob/main/Setembro_Amarelo_com_Python.ipynb\" target=\"_parent\"><img src=\"https://colab.research.google.com/assets/colab-badge.svg\" alt=\"Open In Colab\"/></a>"
      ]
    },
    {
      "cell_type": "markdown",
      "source": [
        "#Setembro Amarelo e Data Science: Análise exploratória de suicídios no Brasil\n",
        "\n",
        "\n",
        "<center><img src=\"https://github.com/VieiraJardel/Data_Science/blob/main/op3.png?raw=true\"></center>"
      ],
      "metadata": {
        "id": "y4UzzsPmm0IM"
      }
    },
    {
      "cell_type": "markdown",
      "source": [
        "**MOTIVAÇÃO**\n",
        "\n",
        "[Todos os meses possuem uma camapanha de saúde atrelado a uma cor](https://www.bioanalise.com.br/blog/entenda-o-significado-das-cores-dos-meses-nas-campanhas-de-saude/) com o objetivo de conscientizar a população sobre os perigos causados por algumas doenças. Para o mês de setembro uma das cores destacadas é o amarelo, que tem como objetivo a prevenção ao suicídio. \n",
        "\n",
        "Particularmente a campanha deste mês chamou-me atenção. Na igreja que frequento tenho notado muitos casos de depressão e ansiedade, em minha Universidade (UERJ) vi episódios ao logo dos anos que levaram ao suicídio de estudantes. Ultimamente tem-se itensificado ainda mais esse disturbio entre a população e a triste maneira que eles recorrem para escapar desse sofrimento, este cenário registra cada vez mais casos, especialmente entre os jovens. Percebe-SE que a procura por especialistas acompanha esse crescimento. \n",
        "\n",
        "A disseminação de tal campanha tem sido amplamente divulgada, notei que na VWCO recebi 2 e-mails acerca dessa conscientização, nas escolas ouvi falar de esforços e na internet támbem é possível  notar em páginas e nas redes sociais debates, campanhas e ações para a conscientização sobre o suicídio."
      ],
      "metadata": {
        "id": "fZZqd5D2KtoG"
      }
    },
    {
      "cell_type": "markdown",
      "source": [
        "**INTRODUÇÃO**\n",
        "\n",
        "Segundo dados do [DataSUS](https://datasus.saude.gov.br/), plataforma do governo federal que concentra informações relativas à saúde no Brasil, as mortes por lesão autoprovocada entre 2011 e 2020 aumentaram 35%. Só em 2020 foram registradas 12.895 suicídios. Em um cenário mundial, esse número ultrapassa 1 milhão de pessoas, levando o suicídio a ser considerado um problema de saúde pública.\n",
        "\n",
        "Para você ter uma noção da dimensão desses números, saiba que o suicídio tem uma taxa maior do que vítimas de AIDS e da maioria dos tipos de câncer. Segundo a Organização Mundial da Saúde [(OMS)](https://www.who.int/) em um levantamento de 2012 sobre quantidade de suicídios no mundo, o Brasil ocupava o oitavo lugar, já outro levantamento em 2019 apontava o Brasil como quinto colocado. A saúde mental está negligenciada e os números de suicídios tendem a aumentar proporcionalmente às taxas de ansiedade e depressão. Segundo dados da OMS, a cada 45 minutos há um suicídio no Brasil, ou seja, 32 pessoas de suicidam por dia no país. A cada 40 segundos há um suicídio no mundo e que a cada 3 segundos há uma tentativa de suicídio.\n",
        "\n",
        "Setembro Amarelo é uma iniciativa da Associação Brasileira de Psiquiatria [(ABP)](https://www.setembroamarelo.com/), em parceria com o Conselho Federal de Medicina [(CFM)](https://portal.cfm.org.br/), para divulgar e alertar a população sobre o problema.\n"
      ],
      "metadata": {
        "id": "TgAmLc5PKuoR"
      }
    },
    {
      "cell_type": "markdown",
      "source": [
        "**PROPOSTA DO ARTIGO**\n",
        "\n",
        "O objetivo deste trabalho é realizar análises exploratórias no conjunto de dados sobre suicídio, a fim de entender o comportamento dos dados no Brasil e fazer uma leve comparação com alguns países do mundo.\n",
        "\n",
        "Unindo os fatores descritos acima, com o curso de [Data Science](https://escola.sigmoidal.ai/assinar-eds/) e materiais disponibilizados pelo professor Carlos Melo o que trago neste artigo é muito mais que apenas um artigo de Ciência de Dados. É uma pequena contribuição que visa ajudar a entender a extensão desse problema no Brasil, além de incentivar a campanha do Setembro Amarelo."
      ],
      "metadata": {
        "id": "-fo8ZRLELCxj"
      }
    },
    {
      "cell_type": "markdown",
      "source": [
        "##Dataset de dados sobre suicídio\n",
        "\n",
        "O conjunto de dados aqui utilizados foi encontarados no [Kaggle](https://www.kaggle.com/datasets/russellyates88/suicide-rates-overview-1985-to-2016)  e traz informações sobre vários países. O dataset contempla o período entre os anos de 1985 e 2016. Esse é um compilado de outros 4 datasets. A pessoa que disponibilizou o mesmo fez um grande trabalho de limpeza e padronização. Caso você deseje saber e tenha interesse em conhecer as fontes que deram origem a este único arquivo, são elas:\n",
        "* [United Nations Development Program. (2018). Human development index - HDI.](http://hdr.undp.org/en/indicators/137506)\n",
        "* [World Bank. (2018). World development indicators: GDP (current US$) by country:1985 to 2016.](http://databank.worldbank.org/data/source/world-development-indicators#)\n",
        "* [Suicide in the Twenty-First Century (Szamil, 2017).](https://www.kaggle.com/szamil/suicide-in-the-twenty-first-century/notebook)\n",
        "* [World Health Organization. (2018). Suicide prevention.](http://www.who.int/mental_health/suicide-prevention/en/)"
      ],
      "metadata": {
        "id": "2vGZGH3mm3pu"
      }
    },
    {
      "cell_type": "code",
      "source": [
        "#Importar pacotes\n",
        "import numpy as np\n",
        "import pandas as pd               #manipulação de dados;\n",
        "import matplotlib.pyplot as plt   #criação de gráficos e visualização de dados;\n",
        "import seaborn as sns             #criação de gráficos e visualização de dados;\n",
        "\n",
        "%matplotlib inline"
      ],
      "metadata": {
        "id": "M9CHWbr7kaRS"
      },
      "execution_count": null,
      "outputs": []
    },
    {
      "cell_type": "code",
      "source": [
        "#Importar dataset salvo no github do Carlos Melo\n",
        "df = pd.read_csv(\"https://raw.githubusercontent.com/carlosfab/data_science/master/datasets/suicide_rates.csv\")"
      ],
      "metadata": {
        "id": "yab2yErrm-J1"
      },
      "execution_count": null,
      "outputs": []
    },
    {
      "cell_type": "markdown",
      "source": [
        "##Dicionário de Variáveis\n",
        "\n",
        "Para nos ajudar a compreender as informações contidas no dataset, é fundamental criarmos um dicionário de variáveis, apresentando a descrição de cada uma delas.\n",
        "\n",
        "O arquivo importado possui 12 colunas, as variáveis são:\n",
        "* **country**: país onde os dados foram registrados – 101 países\n",
        "* **year**: ano em que os dados foram registrados - 1987 a 2016\n",
        "* **sex**: sexo considerado no registro\n",
        "* **age**: faixa etária considerada\n",
        "* **suicides_no**: número de suicídios\n",
        "* **population**: população para o grupo\n",
        "* **suicides/100k pop**: número de suicídios por 100 mil habitantes\n",
        "* **country_year**: identificador contendo country + year\n",
        "* **HDI for year**: Índice de Desenvolvimento Humano (IDH) para o ano\n",
        "* **gdp_for_year**: Produto Interno Bruto (PIB) para o ano\n",
        "* **gdp_per_capita**: Produto Interno Bruto (PIB) per capita"
      ],
      "metadata": {
        "id": "330iiELIlxVE"
      }
    },
    {
      "cell_type": "markdown",
      "source": [
        "## Análise Exploratória dos Dados\n",
        "\n",
        "Como mencionei acima, este arquivo recebeu um tratamento anterior que facilitará muito a nossa análise.\n",
        "\n",
        "A partir do conhecimento inicial do dataset, podemos extratir algumas informações básicas desse conjunto de dados.\n",
        "\n",
        "O conjunto de dados contém 27.820 linhas e 12 colunas. Como você pode ver abaixo, os dados podem ser agrupados por vários critérios como país, ano, sexo e idade."
      ],
      "metadata": {
        "id": "FHiGzX8XnS2k"
      }
    },
    {
      "cell_type": "code",
      "source": [
        "#Conferir dimensoes do dataframe criado\n",
        "print (\"Formato dataframe: \", df.shape)"
      ],
      "metadata": {
        "colab": {
          "base_uri": "https://localhost:8080/"
        },
        "id": "cCU0aI0EOdn-",
        "outputId": "d05dc8a2-35a4-417c-f5a9-fbc826c288ef"
      },
      "execution_count": null,
      "outputs": [
        {
          "output_type": "stream",
          "name": "stdout",
          "text": [
            "Formato dataframe:  (27820, 12)\n"
          ]
        }
      ]
    },
    {
      "cell_type": "code",
      "source": [
        "#Ver entradas \n",
        "df.head()"
      ],
      "metadata": {
        "colab": {
          "base_uri": "https://localhost:8080/",
          "height": 224
        },
        "id": "MqS7RhStlRvy",
        "outputId": "4bf848ed-f063-413b-e3eb-2a897d13d125"
      },
      "execution_count": null,
      "outputs": [
        {
          "output_type": "stream",
          "name": "stdout",
          "text": [
            "Formato dataframe:  (27820, 12)\n"
          ]
        },
        {
          "output_type": "execute_result",
          "data": {
            "text/plain": [
              "   country  year     sex          age  suicides_no  population  \\\n",
              "0  Albania  1987    male  15-24 years           21      312900   \n",
              "1  Albania  1987    male  35-54 years           16      308000   \n",
              "2  Albania  1987  female  15-24 years           14      289700   \n",
              "3  Albania  1987    male    75+ years            1       21800   \n",
              "4  Albania  1987    male  25-34 years            9      274300   \n",
              "\n",
              "   suicides/100k pop country-year  HDI for year  gdp_for_year ($)   \\\n",
              "0               6.71  Albania1987           NaN      2,156,624,900   \n",
              "1               5.19  Albania1987           NaN      2,156,624,900   \n",
              "2               4.83  Albania1987           NaN      2,156,624,900   \n",
              "3               4.59  Albania1987           NaN      2,156,624,900   \n",
              "4               3.28  Albania1987           NaN      2,156,624,900   \n",
              "\n",
              "   gdp_per_capita ($)       generation  \n",
              "0                 796     Generation X  \n",
              "1                 796           Silent  \n",
              "2                 796     Generation X  \n",
              "3                 796  G.I. Generation  \n",
              "4                 796          Boomers  "
            ],
            "text/html": [
              "\n",
              "  <div id=\"df-c29ce60a-2a62-4984-abcb-279dfe305f2f\">\n",
              "    <div class=\"colab-df-container\">\n",
              "      <div>\n",
              "<style scoped>\n",
              "    .dataframe tbody tr th:only-of-type {\n",
              "        vertical-align: middle;\n",
              "    }\n",
              "\n",
              "    .dataframe tbody tr th {\n",
              "        vertical-align: top;\n",
              "    }\n",
              "\n",
              "    .dataframe thead th {\n",
              "        text-align: right;\n",
              "    }\n",
              "</style>\n",
              "<table border=\"1\" class=\"dataframe\">\n",
              "  <thead>\n",
              "    <tr style=\"text-align: right;\">\n",
              "      <th></th>\n",
              "      <th>country</th>\n",
              "      <th>year</th>\n",
              "      <th>sex</th>\n",
              "      <th>age</th>\n",
              "      <th>suicides_no</th>\n",
              "      <th>population</th>\n",
              "      <th>suicides/100k pop</th>\n",
              "      <th>country-year</th>\n",
              "      <th>HDI for year</th>\n",
              "      <th>gdp_for_year ($)</th>\n",
              "      <th>gdp_per_capita ($)</th>\n",
              "      <th>generation</th>\n",
              "    </tr>\n",
              "  </thead>\n",
              "  <tbody>\n",
              "    <tr>\n",
              "      <th>0</th>\n",
              "      <td>Albania</td>\n",
              "      <td>1987</td>\n",
              "      <td>male</td>\n",
              "      <td>15-24 years</td>\n",
              "      <td>21</td>\n",
              "      <td>312900</td>\n",
              "      <td>6.71</td>\n",
              "      <td>Albania1987</td>\n",
              "      <td>NaN</td>\n",
              "      <td>2,156,624,900</td>\n",
              "      <td>796</td>\n",
              "      <td>Generation X</td>\n",
              "    </tr>\n",
              "    <tr>\n",
              "      <th>1</th>\n",
              "      <td>Albania</td>\n",
              "      <td>1987</td>\n",
              "      <td>male</td>\n",
              "      <td>35-54 years</td>\n",
              "      <td>16</td>\n",
              "      <td>308000</td>\n",
              "      <td>5.19</td>\n",
              "      <td>Albania1987</td>\n",
              "      <td>NaN</td>\n",
              "      <td>2,156,624,900</td>\n",
              "      <td>796</td>\n",
              "      <td>Silent</td>\n",
              "    </tr>\n",
              "    <tr>\n",
              "      <th>2</th>\n",
              "      <td>Albania</td>\n",
              "      <td>1987</td>\n",
              "      <td>female</td>\n",
              "      <td>15-24 years</td>\n",
              "      <td>14</td>\n",
              "      <td>289700</td>\n",
              "      <td>4.83</td>\n",
              "      <td>Albania1987</td>\n",
              "      <td>NaN</td>\n",
              "      <td>2,156,624,900</td>\n",
              "      <td>796</td>\n",
              "      <td>Generation X</td>\n",
              "    </tr>\n",
              "    <tr>\n",
              "      <th>3</th>\n",
              "      <td>Albania</td>\n",
              "      <td>1987</td>\n",
              "      <td>male</td>\n",
              "      <td>75+ years</td>\n",
              "      <td>1</td>\n",
              "      <td>21800</td>\n",
              "      <td>4.59</td>\n",
              "      <td>Albania1987</td>\n",
              "      <td>NaN</td>\n",
              "      <td>2,156,624,900</td>\n",
              "      <td>796</td>\n",
              "      <td>G.I. Generation</td>\n",
              "    </tr>\n",
              "    <tr>\n",
              "      <th>4</th>\n",
              "      <td>Albania</td>\n",
              "      <td>1987</td>\n",
              "      <td>male</td>\n",
              "      <td>25-34 years</td>\n",
              "      <td>9</td>\n",
              "      <td>274300</td>\n",
              "      <td>3.28</td>\n",
              "      <td>Albania1987</td>\n",
              "      <td>NaN</td>\n",
              "      <td>2,156,624,900</td>\n",
              "      <td>796</td>\n",
              "      <td>Boomers</td>\n",
              "    </tr>\n",
              "  </tbody>\n",
              "</table>\n",
              "</div>\n",
              "      <button class=\"colab-df-convert\" onclick=\"convertToInteractive('df-c29ce60a-2a62-4984-abcb-279dfe305f2f')\"\n",
              "              title=\"Convert this dataframe to an interactive table.\"\n",
              "              style=\"display:none;\">\n",
              "        \n",
              "  <svg xmlns=\"http://www.w3.org/2000/svg\" height=\"24px\"viewBox=\"0 0 24 24\"\n",
              "       width=\"24px\">\n",
              "    <path d=\"M0 0h24v24H0V0z\" fill=\"none\"/>\n",
              "    <path d=\"M18.56 5.44l.94 2.06.94-2.06 2.06-.94-2.06-.94-.94-2.06-.94 2.06-2.06.94zm-11 1L8.5 8.5l.94-2.06 2.06-.94-2.06-.94L8.5 2.5l-.94 2.06-2.06.94zm10 10l.94 2.06.94-2.06 2.06-.94-2.06-.94-.94-2.06-.94 2.06-2.06.94z\"/><path d=\"M17.41 7.96l-1.37-1.37c-.4-.4-.92-.59-1.43-.59-.52 0-1.04.2-1.43.59L10.3 9.45l-7.72 7.72c-.78.78-.78 2.05 0 2.83L4 21.41c.39.39.9.59 1.41.59.51 0 1.02-.2 1.41-.59l7.78-7.78 2.81-2.81c.8-.78.8-2.07 0-2.86zM5.41 20L4 18.59l7.72-7.72 1.47 1.35L5.41 20z\"/>\n",
              "  </svg>\n",
              "      </button>\n",
              "      \n",
              "  <style>\n",
              "    .colab-df-container {\n",
              "      display:flex;\n",
              "      flex-wrap:wrap;\n",
              "      gap: 12px;\n",
              "    }\n",
              "\n",
              "    .colab-df-convert {\n",
              "      background-color: #E8F0FE;\n",
              "      border: none;\n",
              "      border-radius: 50%;\n",
              "      cursor: pointer;\n",
              "      display: none;\n",
              "      fill: #1967D2;\n",
              "      height: 32px;\n",
              "      padding: 0 0 0 0;\n",
              "      width: 32px;\n",
              "    }\n",
              "\n",
              "    .colab-df-convert:hover {\n",
              "      background-color: #E2EBFA;\n",
              "      box-shadow: 0px 1px 2px rgba(60, 64, 67, 0.3), 0px 1px 3px 1px rgba(60, 64, 67, 0.15);\n",
              "      fill: #174EA6;\n",
              "    }\n",
              "\n",
              "    [theme=dark] .colab-df-convert {\n",
              "      background-color: #3B4455;\n",
              "      fill: #D2E3FC;\n",
              "    }\n",
              "\n",
              "    [theme=dark] .colab-df-convert:hover {\n",
              "      background-color: #434B5C;\n",
              "      box-shadow: 0px 1px 3px 1px rgba(0, 0, 0, 0.15);\n",
              "      filter: drop-shadow(0px 1px 2px rgba(0, 0, 0, 0.3));\n",
              "      fill: #FFFFFF;\n",
              "    }\n",
              "  </style>\n",
              "\n",
              "      <script>\n",
              "        const buttonEl =\n",
              "          document.querySelector('#df-c29ce60a-2a62-4984-abcb-279dfe305f2f button.colab-df-convert');\n",
              "        buttonEl.style.display =\n",
              "          google.colab.kernel.accessAllowed ? 'block' : 'none';\n",
              "\n",
              "        async function convertToInteractive(key) {\n",
              "          const element = document.querySelector('#df-c29ce60a-2a62-4984-abcb-279dfe305f2f');\n",
              "          const dataTable =\n",
              "            await google.colab.kernel.invokeFunction('convertToInteractive',\n",
              "                                                     [key], {});\n",
              "          if (!dataTable) return;\n",
              "\n",
              "          const docLinkHtml = 'Like what you see? Visit the ' +\n",
              "            '<a target=\"_blank\" href=https://colab.research.google.com/notebooks/data_table.ipynb>data table notebook</a>'\n",
              "            + ' to learn more about interactive tables.';\n",
              "          element.innerHTML = '';\n",
              "          dataTable['output_type'] = 'display_data';\n",
              "          await google.colab.output.renderOutput(dataTable, element);\n",
              "          const docLink = document.createElement('div');\n",
              "          docLink.innerHTML = docLinkHtml;\n",
              "          element.appendChild(docLink);\n",
              "        }\n",
              "      </script>\n",
              "    </div>\n",
              "  </div>\n",
              "  "
            ]
          },
          "metadata": {},
          "execution_count": 6
        }
      ]
    },
    {
      "cell_type": "code",
      "source": [
        "#Tipos das váriaveis\n",
        "df.dtypes"
      ],
      "metadata": {
        "colab": {
          "base_uri": "https://localhost:8080/"
        },
        "id": "JPAxoVJXrVk1",
        "outputId": "3b7be337-cba0-44d2-81b7-7e8b8cee6f47"
      },
      "execution_count": null,
      "outputs": [
        {
          "output_type": "execute_result",
          "data": {
            "text/plain": [
              "country                object\n",
              "year                    int64\n",
              "sex                    object\n",
              "age                    object\n",
              "suicides_no             int64\n",
              "population              int64\n",
              "suicides/100k pop     float64\n",
              "country-year           object\n",
              "HDI for year          float64\n",
              " gdp_for_year ($)      object\n",
              "gdp_per_capita ($)      int64\n",
              "generation             object\n",
              "dtype: object"
            ]
          },
          "metadata": {},
          "execution_count": 6
        }
      ]
    },
    {
      "cell_type": "code",
      "source": [
        "#Breve descrição\n",
        "df.describe()"
      ],
      "metadata": {
        "colab": {
          "base_uri": "https://localhost:8080/",
          "height": 300
        },
        "id": "aDvmjs3tsRIB",
        "outputId": "1ef73bcb-1d5f-40fb-b983-f5e8289c620f"
      },
      "execution_count": null,
      "outputs": [
        {
          "output_type": "execute_result",
          "data": {
            "text/plain": [
              "               year   suicides_no    population  suicides/100k pop  \\\n",
              "count  27820.000000  27820.000000  2.782000e+04       27820.000000   \n",
              "mean    2001.258375    242.574407  1.844794e+06          12.816097   \n",
              "std        8.469055    902.047917  3.911779e+06          18.961511   \n",
              "min     1985.000000      0.000000  2.780000e+02           0.000000   \n",
              "25%     1995.000000      3.000000  9.749850e+04           0.920000   \n",
              "50%     2002.000000     25.000000  4.301500e+05           5.990000   \n",
              "75%     2008.000000    131.000000  1.486143e+06          16.620000   \n",
              "max     2016.000000  22338.000000  4.380521e+07         224.970000   \n",
              "\n",
              "       HDI for year  gdp_per_capita ($)  \n",
              "count   8364.000000        27820.000000  \n",
              "mean       0.776601        16866.464414  \n",
              "std        0.093367        18887.576472  \n",
              "min        0.483000          251.000000  \n",
              "25%        0.713000         3447.000000  \n",
              "50%        0.779000         9372.000000  \n",
              "75%        0.855000        24874.000000  \n",
              "max        0.944000       126352.000000  "
            ],
            "text/html": [
              "\n",
              "  <div id=\"df-759ab36d-2811-41fb-9e3e-09da340c7ee6\">\n",
              "    <div class=\"colab-df-container\">\n",
              "      <div>\n",
              "<style scoped>\n",
              "    .dataframe tbody tr th:only-of-type {\n",
              "        vertical-align: middle;\n",
              "    }\n",
              "\n",
              "    .dataframe tbody tr th {\n",
              "        vertical-align: top;\n",
              "    }\n",
              "\n",
              "    .dataframe thead th {\n",
              "        text-align: right;\n",
              "    }\n",
              "</style>\n",
              "<table border=\"1\" class=\"dataframe\">\n",
              "  <thead>\n",
              "    <tr style=\"text-align: right;\">\n",
              "      <th></th>\n",
              "      <th>year</th>\n",
              "      <th>suicides_no</th>\n",
              "      <th>population</th>\n",
              "      <th>suicides/100k pop</th>\n",
              "      <th>HDI for year</th>\n",
              "      <th>gdp_per_capita ($)</th>\n",
              "    </tr>\n",
              "  </thead>\n",
              "  <tbody>\n",
              "    <tr>\n",
              "      <th>count</th>\n",
              "      <td>27820.000000</td>\n",
              "      <td>27820.000000</td>\n",
              "      <td>2.782000e+04</td>\n",
              "      <td>27820.000000</td>\n",
              "      <td>8364.000000</td>\n",
              "      <td>27820.000000</td>\n",
              "    </tr>\n",
              "    <tr>\n",
              "      <th>mean</th>\n",
              "      <td>2001.258375</td>\n",
              "      <td>242.574407</td>\n",
              "      <td>1.844794e+06</td>\n",
              "      <td>12.816097</td>\n",
              "      <td>0.776601</td>\n",
              "      <td>16866.464414</td>\n",
              "    </tr>\n",
              "    <tr>\n",
              "      <th>std</th>\n",
              "      <td>8.469055</td>\n",
              "      <td>902.047917</td>\n",
              "      <td>3.911779e+06</td>\n",
              "      <td>18.961511</td>\n",
              "      <td>0.093367</td>\n",
              "      <td>18887.576472</td>\n",
              "    </tr>\n",
              "    <tr>\n",
              "      <th>min</th>\n",
              "      <td>1985.000000</td>\n",
              "      <td>0.000000</td>\n",
              "      <td>2.780000e+02</td>\n",
              "      <td>0.000000</td>\n",
              "      <td>0.483000</td>\n",
              "      <td>251.000000</td>\n",
              "    </tr>\n",
              "    <tr>\n",
              "      <th>25%</th>\n",
              "      <td>1995.000000</td>\n",
              "      <td>3.000000</td>\n",
              "      <td>9.749850e+04</td>\n",
              "      <td>0.920000</td>\n",
              "      <td>0.713000</td>\n",
              "      <td>3447.000000</td>\n",
              "    </tr>\n",
              "    <tr>\n",
              "      <th>50%</th>\n",
              "      <td>2002.000000</td>\n",
              "      <td>25.000000</td>\n",
              "      <td>4.301500e+05</td>\n",
              "      <td>5.990000</td>\n",
              "      <td>0.779000</td>\n",
              "      <td>9372.000000</td>\n",
              "    </tr>\n",
              "    <tr>\n",
              "      <th>75%</th>\n",
              "      <td>2008.000000</td>\n",
              "      <td>131.000000</td>\n",
              "      <td>1.486143e+06</td>\n",
              "      <td>16.620000</td>\n",
              "      <td>0.855000</td>\n",
              "      <td>24874.000000</td>\n",
              "    </tr>\n",
              "    <tr>\n",
              "      <th>max</th>\n",
              "      <td>2016.000000</td>\n",
              "      <td>22338.000000</td>\n",
              "      <td>4.380521e+07</td>\n",
              "      <td>224.970000</td>\n",
              "      <td>0.944000</td>\n",
              "      <td>126352.000000</td>\n",
              "    </tr>\n",
              "  </tbody>\n",
              "</table>\n",
              "</div>\n",
              "      <button class=\"colab-df-convert\" onclick=\"convertToInteractive('df-759ab36d-2811-41fb-9e3e-09da340c7ee6')\"\n",
              "              title=\"Convert this dataframe to an interactive table.\"\n",
              "              style=\"display:none;\">\n",
              "        \n",
              "  <svg xmlns=\"http://www.w3.org/2000/svg\" height=\"24px\"viewBox=\"0 0 24 24\"\n",
              "       width=\"24px\">\n",
              "    <path d=\"M0 0h24v24H0V0z\" fill=\"none\"/>\n",
              "    <path d=\"M18.56 5.44l.94 2.06.94-2.06 2.06-.94-2.06-.94-.94-2.06-.94 2.06-2.06.94zm-11 1L8.5 8.5l.94-2.06 2.06-.94-2.06-.94L8.5 2.5l-.94 2.06-2.06.94zm10 10l.94 2.06.94-2.06 2.06-.94-2.06-.94-.94-2.06-.94 2.06-2.06.94z\"/><path d=\"M17.41 7.96l-1.37-1.37c-.4-.4-.92-.59-1.43-.59-.52 0-1.04.2-1.43.59L10.3 9.45l-7.72 7.72c-.78.78-.78 2.05 0 2.83L4 21.41c.39.39.9.59 1.41.59.51 0 1.02-.2 1.41-.59l7.78-7.78 2.81-2.81c.8-.78.8-2.07 0-2.86zM5.41 20L4 18.59l7.72-7.72 1.47 1.35L5.41 20z\"/>\n",
              "  </svg>\n",
              "      </button>\n",
              "      \n",
              "  <style>\n",
              "    .colab-df-container {\n",
              "      display:flex;\n",
              "      flex-wrap:wrap;\n",
              "      gap: 12px;\n",
              "    }\n",
              "\n",
              "    .colab-df-convert {\n",
              "      background-color: #E8F0FE;\n",
              "      border: none;\n",
              "      border-radius: 50%;\n",
              "      cursor: pointer;\n",
              "      display: none;\n",
              "      fill: #1967D2;\n",
              "      height: 32px;\n",
              "      padding: 0 0 0 0;\n",
              "      width: 32px;\n",
              "    }\n",
              "\n",
              "    .colab-df-convert:hover {\n",
              "      background-color: #E2EBFA;\n",
              "      box-shadow: 0px 1px 2px rgba(60, 64, 67, 0.3), 0px 1px 3px 1px rgba(60, 64, 67, 0.15);\n",
              "      fill: #174EA6;\n",
              "    }\n",
              "\n",
              "    [theme=dark] .colab-df-convert {\n",
              "      background-color: #3B4455;\n",
              "      fill: #D2E3FC;\n",
              "    }\n",
              "\n",
              "    [theme=dark] .colab-df-convert:hover {\n",
              "      background-color: #434B5C;\n",
              "      box-shadow: 0px 1px 3px 1px rgba(0, 0, 0, 0.15);\n",
              "      filter: drop-shadow(0px 1px 2px rgba(0, 0, 0, 0.3));\n",
              "      fill: #FFFFFF;\n",
              "    }\n",
              "  </style>\n",
              "\n",
              "      <script>\n",
              "        const buttonEl =\n",
              "          document.querySelector('#df-759ab36d-2811-41fb-9e3e-09da340c7ee6 button.colab-df-convert');\n",
              "        buttonEl.style.display =\n",
              "          google.colab.kernel.accessAllowed ? 'block' : 'none';\n",
              "\n",
              "        async function convertToInteractive(key) {\n",
              "          const element = document.querySelector('#df-759ab36d-2811-41fb-9e3e-09da340c7ee6');\n",
              "          const dataTable =\n",
              "            await google.colab.kernel.invokeFunction('convertToInteractive',\n",
              "                                                     [key], {});\n",
              "          if (!dataTable) return;\n",
              "\n",
              "          const docLinkHtml = 'Like what you see? Visit the ' +\n",
              "            '<a target=\"_blank\" href=https://colab.research.google.com/notebooks/data_table.ipynb>data table notebook</a>'\n",
              "            + ' to learn more about interactive tables.';\n",
              "          element.innerHTML = '';\n",
              "          dataTable['output_type'] = 'display_data';\n",
              "          await google.colab.output.renderOutput(dataTable, element);\n",
              "          const docLink = document.createElement('div');\n",
              "          docLink.innerHTML = docLinkHtml;\n",
              "          element.appendChild(docLink);\n",
              "        }\n",
              "      </script>\n",
              "    </div>\n",
              "  </div>\n",
              "  "
            ]
          },
          "metadata": {},
          "execution_count": 7
        }
      ]
    },
    {
      "cell_type": "markdown",
      "source": [
        "##Análise Mundial\n",
        "Agora uma rápida visão sobre o comportamento de suicidios ao redor do mundo. Aqui podemos ver os países que países apresentam os maiores números de casos de suicídios em todo o mundo no período de 1985 até 2015.\n",
        "\n",
        "Os números mais impressionantes são os da Rússia, Estados Unidos da América e Japão, que apresentam, pelo menos, duas vezes mais casos de suicídios do que o restante dos países listados. O Brasil aparece na lista como o 8º país com mais casos no período analisado."
      ],
      "metadata": {
        "id": "MMqSlyjCslKF"
      }
    },
    {
      "cell_type": "code",
      "source": [
        "# PAÍSES COM MAIORES NÚMEROS DE SUICÍDIOS POR 100 MIL HABITANTES\n",
        "\n",
        "suicidios = []\n",
        "for paises in df.country.unique():\n",
        "    suicidios.append(sum(df[df['country'] == paises].suicides_no))\n",
        "\n",
        "suicidios = pd.DataFrame(suicidios, columns = ['suicidios'])\n",
        "paises = pd.DataFrame(df.country.unique(), columns=['paises'])\n",
        "num_suicidio = pd.concat([suicidios, paises], axis = 1)\n",
        "\n",
        "num_suicidio = num_suicidio.sort_values(by = 'suicidios', ascending = False)\n",
        "\n",
        "fig, ax = plt.subplots(figsize = (10,5))\n",
        "sns.barplot(y = num_suicidio.paises[:15], x = num_suicidio.suicidios[:15], palette='rocket')\n",
        "\n",
        "plt.tight_layout()"
      ],
      "metadata": {
        "colab": {
          "base_uri": "https://localhost:8080/",
          "height": 369
        },
        "id": "Ww8CUjtEuJuI",
        "outputId": "a509cdcc-b5cc-4e6c-a5c1-448f5e95bd33"
      },
      "execution_count": null,
      "outputs": [
        {
          "output_type": "display_data",
          "data": {
            "text/plain": [
              "<Figure size 720x360 with 1 Axes>"
            ],
            "image/png": "[encoded data removed]"
          },
          "metadata": {
            "needs_background": "light"
          }
        }
      ]
    },
    {
      "cell_type": "markdown",
      "source": [
        "#Análise Brasil\n",
        "Para facilitar a manipulação de informações de nosso país é ideal que se separe os dados do Brasil criando um dataset a parte. No período identificado há 372 casos registrados."
      ],
      "metadata": {
        "id": "V1Jd4Jlpp3Yy"
      }
    },
    {
      "cell_type": "code",
      "source": [
        "#Extrair dados do Brasil\n",
        "df_br = df[df.country == \"Brazil\"].copy()\n",
        "\n",
        "#Conferir formato\n",
        "print (\"Formato dataframe Brasil\", df_br.shape)\n",
        "\n",
        "#Exibir primeiras entradas\n",
        "df_br.head()"
      ],
      "metadata": {
        "colab": {
          "base_uri": "https://localhost:8080/",
          "height": 224
        },
        "id": "DQArpo71qLBt",
        "outputId": "a5924e55-367d-4ec6-babe-0bb17b51c44a"
      },
      "execution_count": null,
      "outputs": [
        {
          "output_type": "stream",
          "name": "stdout",
          "text": [
            "Formato dataframe Brasil (372, 12)\n"
          ]
        },
        {
          "output_type": "execute_result",
          "data": {
            "text/plain": [
              "     country  year   sex          age  suicides_no  population  \\\n",
              "4172  Brazil  1985  male    75+ years          129      840300   \n",
              "4173  Brazil  1985  male  55-74 years          535     5364900   \n",
              "4174  Brazil  1985  male  35-54 years         1011    11986300   \n",
              "4175  Brazil  1985  male  25-34 years          791    10762900   \n",
              "4176  Brazil  1985  male  15-24 years          661    13834000   \n",
              "\n",
              "      suicides/100k pop country-year  HDI for year  gdp_for_year ($)   \\\n",
              "4172              15.35   Brazil1985         0.576    222,942,790,435   \n",
              "4173               9.97   Brazil1985         0.576    222,942,790,435   \n",
              "4174               8.43   Brazil1985         0.576    222,942,790,435   \n",
              "4175               7.35   Brazil1985         0.576    222,942,790,435   \n",
              "4176               4.78   Brazil1985         0.576    222,942,790,435   \n",
              "\n",
              "      gdp_per_capita ($)       generation  \n",
              "4172                1898  G.I. Generation  \n",
              "4173                1898  G.I. Generation  \n",
              "4174                1898           Silent  \n",
              "4175                1898          Boomers  \n",
              "4176                1898     Generation X  "
            ],
            "text/html": [
              "\n",
              "  <div id=\"df-2a287ac8-1ff5-4a34-87a9-4ff5b079f37f\">\n",
              "    <div class=\"colab-df-container\">\n",
              "      <div>\n",
              "<style scoped>\n",
              "    .dataframe tbody tr th:only-of-type {\n",
              "        vertical-align: middle;\n",
              "    }\n",
              "\n",
              "    .dataframe tbody tr th {\n",
              "        vertical-align: top;\n",
              "    }\n",
              "\n",
              "    .dataframe thead th {\n",
              "        text-align: right;\n",
              "    }\n",
              "</style>\n",
              "<table border=\"1\" class=\"dataframe\">\n",
              "  <thead>\n",
              "    <tr style=\"text-align: right;\">\n",
              "      <th></th>\n",
              "      <th>country</th>\n",
              "      <th>year</th>\n",
              "      <th>sex</th>\n",
              "      <th>age</th>\n",
              "      <th>suicides_no</th>\n",
              "      <th>population</th>\n",
              "      <th>suicides/100k pop</th>\n",
              "      <th>country-year</th>\n",
              "      <th>HDI for year</th>\n",
              "      <th>gdp_for_year ($)</th>\n",
              "      <th>gdp_per_capita ($)</th>\n",
              "      <th>generation</th>\n",
              "    </tr>\n",
              "  </thead>\n",
              "  <tbody>\n",
              "    <tr>\n",
              "      <th>4172</th>\n",
              "      <td>Brazil</td>\n",
              "      <td>1985</td>\n",
              "      <td>male</td>\n",
              "      <td>75+ years</td>\n",
              "      <td>129</td>\n",
              "      <td>840300</td>\n",
              "      <td>15.35</td>\n",
              "      <td>Brazil1985</td>\n",
              "      <td>0.576</td>\n",
              "      <td>222,942,790,435</td>\n",
              "      <td>1898</td>\n",
              "      <td>G.I. Generation</td>\n",
              "    </tr>\n",
              "    <tr>\n",
              "      <th>4173</th>\n",
              "      <td>Brazil</td>\n",
              "      <td>1985</td>\n",
              "      <td>male</td>\n",
              "      <td>55-74 years</td>\n",
              "      <td>535</td>\n",
              "      <td>5364900</td>\n",
              "      <td>9.97</td>\n",
              "      <td>Brazil1985</td>\n",
              "      <td>0.576</td>\n",
              "      <td>222,942,790,435</td>\n",
              "      <td>1898</td>\n",
              "      <td>G.I. Generation</td>\n",
              "    </tr>\n",
              "    <tr>\n",
              "      <th>4174</th>\n",
              "      <td>Brazil</td>\n",
              "      <td>1985</td>\n",
              "      <td>male</td>\n",
              "      <td>35-54 years</td>\n",
              "      <td>1011</td>\n",
              "      <td>11986300</td>\n",
              "      <td>8.43</td>\n",
              "      <td>Brazil1985</td>\n",
              "      <td>0.576</td>\n",
              "      <td>222,942,790,435</td>\n",
              "      <td>1898</td>\n",
              "      <td>Silent</td>\n",
              "    </tr>\n",
              "    <tr>\n",
              "      <th>4175</th>\n",
              "      <td>Brazil</td>\n",
              "      <td>1985</td>\n",
              "      <td>male</td>\n",
              "      <td>25-34 years</td>\n",
              "      <td>791</td>\n",
              "      <td>10762900</td>\n",
              "      <td>7.35</td>\n",
              "      <td>Brazil1985</td>\n",
              "      <td>0.576</td>\n",
              "      <td>222,942,790,435</td>\n",
              "      <td>1898</td>\n",
              "      <td>Boomers</td>\n",
              "    </tr>\n",
              "    <tr>\n",
              "      <th>4176</th>\n",
              "      <td>Brazil</td>\n",
              "      <td>1985</td>\n",
              "      <td>male</td>\n",
              "      <td>15-24 years</td>\n",
              "      <td>661</td>\n",
              "      <td>13834000</td>\n",
              "      <td>4.78</td>\n",
              "      <td>Brazil1985</td>\n",
              "      <td>0.576</td>\n",
              "      <td>222,942,790,435</td>\n",
              "      <td>1898</td>\n",
              "      <td>Generation X</td>\n",
              "    </tr>\n",
              "  </tbody>\n",
              "</table>\n",
              "</div>\n",
              "      <button class=\"colab-df-convert\" onclick=\"convertToInteractive('df-2a287ac8-1ff5-4a34-87a9-4ff5b079f37f')\"\n",
              "              title=\"Convert this dataframe to an interactive table.\"\n",
              "              style=\"display:none;\">\n",
              "        \n",
              "  <svg xmlns=\"http://www.w3.org/2000/svg\" height=\"24px\"viewBox=\"0 0 24 24\"\n",
              "       width=\"24px\">\n",
              "    <path d=\"M0 0h24v24H0V0z\" fill=\"none\"/>\n",
              "    <path d=\"M18.56 5.44l.94 2.06.94-2.06 2.06-.94-2.06-.94-.94-2.06-.94 2.06-2.06.94zm-11 1L8.5 8.5l.94-2.06 2.06-.94-2.06-.94L8.5 2.5l-.94 2.06-2.06.94zm10 10l.94 2.06.94-2.06 2.06-.94-2.06-.94-.94-2.06-.94 2.06-2.06.94z\"/><path d=\"M17.41 7.96l-1.37-1.37c-.4-.4-.92-.59-1.43-.59-.52 0-1.04.2-1.43.59L10.3 9.45l-7.72 7.72c-.78.78-.78 2.05 0 2.83L4 21.41c.39.39.9.59 1.41.59.51 0 1.02-.2 1.41-.59l7.78-7.78 2.81-2.81c.8-.78.8-2.07 0-2.86zM5.41 20L4 18.59l7.72-7.72 1.47 1.35L5.41 20z\"/>\n",
              "  </svg>\n",
              "      </button>\n",
              "      \n",
              "  <style>\n",
              "    .colab-df-container {\n",
              "      display:flex;\n",
              "      flex-wrap:wrap;\n",
              "      gap: 12px;\n",
              "    }\n",
              "\n",
              "    .colab-df-convert {\n",
              "      background-color: #E8F0FE;\n",
              "      border: none;\n",
              "      border-radius: 50%;\n",
              "      cursor: pointer;\n",
              "      display: none;\n",
              "      fill: #1967D2;\n",
              "      height: 32px;\n",
              "      padding: 0 0 0 0;\n",
              "      width: 32px;\n",
              "    }\n",
              "\n",
              "    .colab-df-convert:hover {\n",
              "      background-color: #E2EBFA;\n",
              "      box-shadow: 0px 1px 2px rgba(60, 64, 67, 0.3), 0px 1px 3px 1px rgba(60, 64, 67, 0.15);\n",
              "      fill: #174EA6;\n",
              "    }\n",
              "\n",
              "    [theme=dark] .colab-df-convert {\n",
              "      background-color: #3B4455;\n",
              "      fill: #D2E3FC;\n",
              "    }\n",
              "\n",
              "    [theme=dark] .colab-df-convert:hover {\n",
              "      background-color: #434B5C;\n",
              "      box-shadow: 0px 1px 3px 1px rgba(0, 0, 0, 0.15);\n",
              "      filter: drop-shadow(0px 1px 2px rgba(0, 0, 0, 0.3));\n",
              "      fill: #FFFFFF;\n",
              "    }\n",
              "  </style>\n",
              "\n",
              "      <script>\n",
              "        const buttonEl =\n",
              "          document.querySelector('#df-2a287ac8-1ff5-4a34-87a9-4ff5b079f37f button.colab-df-convert');\n",
              "        buttonEl.style.display =\n",
              "          google.colab.kernel.accessAllowed ? 'block' : 'none';\n",
              "\n",
              "        async function convertToInteractive(key) {\n",
              "          const element = document.querySelector('#df-2a287ac8-1ff5-4a34-87a9-4ff5b079f37f');\n",
              "          const dataTable =\n",
              "            await google.colab.kernel.invokeFunction('convertToInteractive',\n",
              "                                                     [key], {});\n",
              "          if (!dataTable) return;\n",
              "\n",
              "          const docLinkHtml = 'Like what you see? Visit the ' +\n",
              "            '<a target=\"_blank\" href=https://colab.research.google.com/notebooks/data_table.ipynb>data table notebook</a>'\n",
              "            + ' to learn more about interactive tables.';\n",
              "          element.innerHTML = '';\n",
              "          dataTable['output_type'] = 'display_data';\n",
              "          await google.colab.output.renderOutput(dataTable, element);\n",
              "          const docLink = document.createElement('div');\n",
              "          docLink.innerHTML = docLinkHtml;\n",
              "          element.appendChild(docLink);\n",
              "        }\n",
              "      </script>\n",
              "    </div>\n",
              "  </div>\n",
              "  "
            ]
          },
          "metadata": {},
          "execution_count": 10
        }
      ]
    },
    {
      "cell_type": "code",
      "source": [
        "#Exibir ultimas entradas\n",
        "df_br.tail()"
      ],
      "metadata": {
        "colab": {
          "base_uri": "https://localhost:8080/",
          "height": 206
        },
        "id": "gs0M4ESaDpy5",
        "outputId": "abc94467-0e9b-406c-81ea-73a556dbfe47"
      },
      "execution_count": null,
      "outputs": [
        {
          "output_type": "execute_result",
          "data": {
            "text/plain": [
              "     country  year     sex          age  suicides_no  population  \\\n",
              "4539  Brazil  2015  female  25-34 years          466    17546090   \n",
              "4540  Brazil  2015  female    75+ years           89     3802086   \n",
              "4541  Brazil  2015  female  15-24 years          397    17047218   \n",
              "4542  Brazil  2015    male   5-14 years           79    16057040   \n",
              "4543  Brazil  2015  female   5-14 years           56    15430579   \n",
              "\n",
              "      suicides/100k pop country-year  HDI for year  gdp_for_year ($)   \\\n",
              "4539               2.66   Brazil2015           NaN  1,802,214,373,741   \n",
              "4540               2.34   Brazil2015           NaN  1,802,214,373,741   \n",
              "4541               2.33   Brazil2015           NaN  1,802,214,373,741   \n",
              "4542               0.49   Brazil2015           NaN  1,802,214,373,741   \n",
              "4543               0.36   Brazil2015           NaN  1,802,214,373,741   \n",
              "\n",
              "      gdp_per_capita ($)    generation  \n",
              "4539                9431    Millenials  \n",
              "4540                9431        Silent  \n",
              "4541                9431    Millenials  \n",
              "4542                9431  Generation Z  \n",
              "4543                9431  Generation Z  "
            ],
            "text/html": [
              "\n",
              "  <div id=\"df-10258f17-9c24-4528-a22a-f9f86149192e\">\n",
              "    <div class=\"colab-df-container\">\n",
              "      <div>\n",
              "<style scoped>\n",
              "    .dataframe tbody tr th:only-of-type {\n",
              "        vertical-align: middle;\n",
              "    }\n",
              "\n",
              "    .dataframe tbody tr th {\n",
              "        vertical-align: top;\n",
              "    }\n",
              "\n",
              "    .dataframe thead th {\n",
              "        text-align: right;\n",
              "    }\n",
              "</style>\n",
              "<table border=\"1\" class=\"dataframe\">\n",
              "  <thead>\n",
              "    <tr style=\"text-align: right;\">\n",
              "      <th></th>\n",
              "      <th>country</th>\n",
              "      <th>year</th>\n",
              "      <th>sex</th>\n",
              "      <th>age</th>\n",
              "      <th>suicides_no</th>\n",
              "      <th>population</th>\n",
              "      <th>suicides/100k pop</th>\n",
              "      <th>country-year</th>\n",
              "      <th>HDI for year</th>\n",
              "      <th>gdp_for_year ($)</th>\n",
              "      <th>gdp_per_capita ($)</th>\n",
              "      <th>generation</th>\n",
              "    </tr>\n",
              "  </thead>\n",
              "  <tbody>\n",
              "    <tr>\n",
              "      <th>4539</th>\n",
              "      <td>Brazil</td>\n",
              "      <td>2015</td>\n",
              "      <td>female</td>\n",
              "      <td>25-34 years</td>\n",
              "      <td>466</td>\n",
              "      <td>17546090</td>\n",
              "      <td>2.66</td>\n",
              "      <td>Brazil2015</td>\n",
              "      <td>NaN</td>\n",
              "      <td>1,802,214,373,741</td>\n",
              "      <td>9431</td>\n",
              "      <td>Millenials</td>\n",
              "    </tr>\n",
              "    <tr>\n",
              "      <th>4540</th>\n",
              "      <td>Brazil</td>\n",
              "      <td>2015</td>\n",
              "      <td>female</td>\n",
              "      <td>75+ years</td>\n",
              "      <td>89</td>\n",
              "      <td>3802086</td>\n",
              "      <td>2.34</td>\n",
              "      <td>Brazil2015</td>\n",
              "      <td>NaN</td>\n",
              "      <td>1,802,214,373,741</td>\n",
              "      <td>9431</td>\n",
              "      <td>Silent</td>\n",
              "    </tr>\n",
              "    <tr>\n",
              "      <th>4541</th>\n",
              "      <td>Brazil</td>\n",
              "      <td>2015</td>\n",
              "      <td>female</td>\n",
              "      <td>15-24 years</td>\n",
              "      <td>397</td>\n",
              "      <td>17047218</td>\n",
              "      <td>2.33</td>\n",
              "      <td>Brazil2015</td>\n",
              "      <td>NaN</td>\n",
              "      <td>1,802,214,373,741</td>\n",
              "      <td>9431</td>\n",
              "      <td>Millenials</td>\n",
              "    </tr>\n",
              "    <tr>\n",
              "      <th>4542</th>\n",
              "      <td>Brazil</td>\n",
              "      <td>2015</td>\n",
              "      <td>male</td>\n",
              "      <td>5-14 years</td>\n",
              "      <td>79</td>\n",
              "      <td>16057040</td>\n",
              "      <td>0.49</td>\n",
              "      <td>Brazil2015</td>\n",
              "      <td>NaN</td>\n",
              "      <td>1,802,214,373,741</td>\n",
              "      <td>9431</td>\n",
              "      <td>Generation Z</td>\n",
              "    </tr>\n",
              "    <tr>\n",
              "      <th>4543</th>\n",
              "      <td>Brazil</td>\n",
              "      <td>2015</td>\n",
              "      <td>female</td>\n",
              "      <td>5-14 years</td>\n",
              "      <td>56</td>\n",
              "      <td>15430579</td>\n",
              "      <td>0.36</td>\n",
              "      <td>Brazil2015</td>\n",
              "      <td>NaN</td>\n",
              "      <td>1,802,214,373,741</td>\n",
              "      <td>9431</td>\n",
              "      <td>Generation Z</td>\n",
              "    </tr>\n",
              "  </tbody>\n",
              "</table>\n",
              "</div>\n",
              "      <button class=\"colab-df-convert\" onclick=\"convertToInteractive('df-10258f17-9c24-4528-a22a-f9f86149192e')\"\n",
              "              title=\"Convert this dataframe to an interactive table.\"\n",
              "              style=\"display:none;\">\n",
              "        \n",
              "  <svg xmlns=\"http://www.w3.org/2000/svg\" height=\"24px\"viewBox=\"0 0 24 24\"\n",
              "       width=\"24px\">\n",
              "    <path d=\"M0 0h24v24H0V0z\" fill=\"none\"/>\n",
              "    <path d=\"M18.56 5.44l.94 2.06.94-2.06 2.06-.94-2.06-.94-.94-2.06-.94 2.06-2.06.94zm-11 1L8.5 8.5l.94-2.06 2.06-.94-2.06-.94L8.5 2.5l-.94 2.06-2.06.94zm10 10l.94 2.06.94-2.06 2.06-.94-2.06-.94-.94-2.06-.94 2.06-2.06.94z\"/><path d=\"M17.41 7.96l-1.37-1.37c-.4-.4-.92-.59-1.43-.59-.52 0-1.04.2-1.43.59L10.3 9.45l-7.72 7.72c-.78.78-.78 2.05 0 2.83L4 21.41c.39.39.9.59 1.41.59.51 0 1.02-.2 1.41-.59l7.78-7.78 2.81-2.81c.8-.78.8-2.07 0-2.86zM5.41 20L4 18.59l7.72-7.72 1.47 1.35L5.41 20z\"/>\n",
              "  </svg>\n",
              "      </button>\n",
              "      \n",
              "  <style>\n",
              "    .colab-df-container {\n",
              "      display:flex;\n",
              "      flex-wrap:wrap;\n",
              "      gap: 12px;\n",
              "    }\n",
              "\n",
              "    .colab-df-convert {\n",
              "      background-color: #E8F0FE;\n",
              "      border: none;\n",
              "      border-radius: 50%;\n",
              "      cursor: pointer;\n",
              "      display: none;\n",
              "      fill: #1967D2;\n",
              "      height: 32px;\n",
              "      padding: 0 0 0 0;\n",
              "      width: 32px;\n",
              "    }\n",
              "\n",
              "    .colab-df-convert:hover {\n",
              "      background-color: #E2EBFA;\n",
              "      box-shadow: 0px 1px 2px rgba(60, 64, 67, 0.3), 0px 1px 3px 1px rgba(60, 64, 67, 0.15);\n",
              "      fill: #174EA6;\n",
              "    }\n",
              "\n",
              "    [theme=dark] .colab-df-convert {\n",
              "      background-color: #3B4455;\n",
              "      fill: #D2E3FC;\n",
              "    }\n",
              "\n",
              "    [theme=dark] .colab-df-convert:hover {\n",
              "      background-color: #434B5C;\n",
              "      box-shadow: 0px 1px 3px 1px rgba(0, 0, 0, 0.15);\n",
              "      filter: drop-shadow(0px 1px 2px rgba(0, 0, 0, 0.3));\n",
              "      fill: #FFFFFF;\n",
              "    }\n",
              "  </style>\n",
              "\n",
              "      <script>\n",
              "        const buttonEl =\n",
              "          document.querySelector('#df-10258f17-9c24-4528-a22a-f9f86149192e button.colab-df-convert');\n",
              "        buttonEl.style.display =\n",
              "          google.colab.kernel.accessAllowed ? 'block' : 'none';\n",
              "\n",
              "        async function convertToInteractive(key) {\n",
              "          const element = document.querySelector('#df-10258f17-9c24-4528-a22a-f9f86149192e');\n",
              "          const dataTable =\n",
              "            await google.colab.kernel.invokeFunction('convertToInteractive',\n",
              "                                                     [key], {});\n",
              "          if (!dataTable) return;\n",
              "\n",
              "          const docLinkHtml = 'Like what you see? Visit the ' +\n",
              "            '<a target=\"_blank\" href=https://colab.research.google.com/notebooks/data_table.ipynb>data table notebook</a>'\n",
              "            + ' to learn more about interactive tables.';\n",
              "          element.innerHTML = '';\n",
              "          dataTable['output_type'] = 'display_data';\n",
              "          await google.colab.output.renderOutput(dataTable, element);\n",
              "          const docLink = document.createElement('div');\n",
              "          docLink.innerHTML = docLinkHtml;\n",
              "          element.appendChild(docLink);\n",
              "        }\n",
              "      </script>\n",
              "    </div>\n",
              "  </div>\n",
              "  "
            ]
          },
          "metadata": {},
          "execution_count": 29
        }
      ]
    },
    {
      "cell_type": "markdown",
      "source": [
        "Pode-se perceber que os dados vão até o ano de 2015."
      ],
      "metadata": {
        "id": "lTTddD8SD0fV"
      }
    },
    {
      "cell_type": "markdown",
      "source": [
        "Para ter uma noção da integridade dos dados, vou verificar isoladamente os DataFrames do Brasil e o Mundial. Principalmente quando se quer comparar duas coisas, é importante que eles sejam similares e estatisticamente representativas.\n",
        "\n",
        "Como você vê abaixo, a porcentagem de valores ausentes referentes ao IDH torna inviável o uso dessa variável. Caso se desejasse realmente usar, seria necessária uma etapa de coleta de dados a partir de outras fontes. Em contra partida os outros dados estão bem completos, isso poupa trabalho já que não exige um tratamento mais específico.\n"
      ],
      "metadata": {
        "id": "VSQ1IXkjr4Ej"
      }
    },
    {
      "cell_type": "code",
      "source": [
        "#Relação de valores ausentes em dados mundiais\n",
        "print(\"--> Mundial:\")\n",
        "display(df.isnull().sum())\n",
        "\n",
        "#Apenas para semparar informação\n",
        "print(\"\\n\", \"--\"*10, \"\\n\")\n",
        "\n",
        "#Valores ausentes nos dados do Brasil\n",
        "print(\"-->Brasil:\")\n",
        "display (df_br.isnull().sum())"
      ],
      "metadata": {
        "colab": {
          "base_uri": "https://localhost:8080/",
          "height": 555
        },
        "id": "q1vJjgoTr1Af",
        "outputId": "c643b8d7-df37-49b8-eabd-07b3ff520ef8"
      },
      "execution_count": null,
      "outputs": [
        {
          "output_type": "stream",
          "name": "stdout",
          "text": [
            "--> Mundial:\n"
          ]
        },
        {
          "output_type": "display_data",
          "data": {
            "text/plain": [
              "country                   0\n",
              "year                      0\n",
              "sex                       0\n",
              "age                       0\n",
              "suicides_no               0\n",
              "population                0\n",
              "suicides/100k pop         0\n",
              "country-year              0\n",
              "HDI for year          19456\n",
              " gdp_for_year ($)         0\n",
              "gdp_per_capita ($)        0\n",
              "generation                0\n",
              "dtype: int64"
            ]
          },
          "metadata": {}
        },
        {
          "output_type": "stream",
          "name": "stdout",
          "text": [
            "\n",
            " -------------------- \n",
            "\n",
            "-->Brasil:\n"
          ]
        },
        {
          "output_type": "display_data",
          "data": {
            "text/plain": [
              "country                 0\n",
              "year                    0\n",
              "sex                     0\n",
              "age                     0\n",
              "suicides_no             0\n",
              "population              0\n",
              "suicides/100k pop       0\n",
              "country-year            0\n",
              "HDI for year          252\n",
              " gdp_for_year ($)       0\n",
              "gdp_per_capita ($)      0\n",
              "generation              0\n",
              "dtype: int64"
            ]
          },
          "metadata": {}
        }
      ]
    },
    {
      "cell_type": "markdown",
      "source": [
        "### Tendência da taxa de suicídio no Brasil\n",
        "Uma primeira comparação que farei diz respeito ao número de suicídios cometidos no Brasil por 100 mil habitantes, e a tendência do gráfico em relação à taxa mundial.\n",
        "\n",
        "Para ver a tendência, é melhor sempre usar essa relação por 100 mil, pois a população do país cresceu muito de 1985 para 2015. Se formos comparar em termos absolutos, poderemos tirar conclusões erradas ou distorcidas."
      ],
      "metadata": {
        "id": "Xu4j3mkwtmNr"
      }
    },
    {
      "cell_type": "code",
      "source": [
        "#Pegando média mundial e do Brasil\n",
        "years = df_br.year.unique()  #Pondo anos no eixo x\n",
        "suicides_brazil_mean = df_br.groupby('year')['suicides/100k pop'].mean()\n",
        "suicides_world_mean = df.groupby('year')['suicides/100k pop'].mean()\n",
        "\n",
        "#Brasil não tem o ano de 2016, vamos eliminar esse ano do dataframe mundial para igualar\n",
        "suicides_world_mean.drop(2016, inplace=True)"
      ],
      "metadata": {
        "id": "oTYCT5wArrOM"
      },
      "execution_count": null,
      "outputs": []
    },
    {
      "cell_type": "code",
      "source": [
        "#Plotar comparativo Brasil x Mundo\n",
        "ax = sns.lineplot(x=years, y=suicides_world_mean, label=\"Mundo\")\n",
        "ax = sns.lineplot(x=years, y=suicides_brazil_mean, label=\"Brasil\")\n",
        "plt.legend(title=\"Taxa de suicídio\")\n",
        "plt.show"
      ],
      "metadata": {
        "colab": {
          "base_uri": "https://localhost:8080/",
          "height": 283
        },
        "id": "6UTLtAKPw8xo",
        "outputId": "002b4364-0302-49e9-89fa-e3e65f0f9e14"
      },
      "execution_count": null,
      "outputs": [
        {
          "output_type": "execute_result",
          "data": {
            "text/plain": [
              "<function matplotlib.pyplot.show(*args, **kw)>"
            ]
          },
          "metadata": {},
          "execution_count": 15
        },
        {
          "output_type": "display_data",
          "data": {
            "text/plain": [
              "<Figure size 432x288 with 1 Axes>"
            ],
            "image/png": "[encoded data removed]"
          },
          "metadata": {
            "needs_background": "light"
          }
        }
      ]
    },
    {
      "cell_type": "code",
      "source": [
        "# COMPARAÇÃO DOS CASOS DE SUICÍDIO: BRASIL - MUNDO\n",
        "fig, ax = plt.subplots(figsize = (11,6))\n",
        "\n",
        "ax = sns.lineplot(x = df_br['year'], y = df_br['suicides/100k pop'], color = 'r', label = 'Brasil')\n",
        "ax = sns.lineplot(x = df['year'],  y = df['suicides/100k pop'], color = 'g', label = 'Mundo')\n",
        "\n",
        "plt.title('Comparação Casos de Suicídio no Brasil e no Mundo')\n",
        "plt.xlabel('Ano')\n",
        "plt.ylabel('Nº suicídios por 100 mil habitantes')\n",
        "plt.xlim(1985, 2015)\n",
        "\n",
        "plt.tight_layout()"
      ],
      "metadata": {
        "colab": {
          "base_uri": "https://localhost:8080/",
          "height": 441
        },
        "id": "tlY9uaAVwvvl",
        "outputId": "4348f224-18b4-4767-bddc-72611b127bd2"
      },
      "execution_count": null,
      "outputs": [
        {
          "output_type": "display_data",
          "data": {
            "text/plain": [
              "<Figure size 792x432 with 1 Axes>"
            ],
            "image/png": "[encoded data removed]"
          },
          "metadata": {
            "needs_background": "light"
          }
        }
      ]
    },
    {
      "cell_type": "markdown",
      "source": [
        "Pode-se notar que apesar da taxa de suicídios no Brasil ser menor que a média mundial, ela vem crescendo constantemente ao longo de 30 anos. O Brasil mostrou-se com slope positivo ao logo de todo periodo registrado.\n",
        "\n",
        "O comportamento indica que não estamos acomoanhado a taxa mundial."
      ],
      "metadata": {
        "id": "8oZTJTRqyRj2"
      }
    },
    {
      "cell_type": "markdown",
      "source": [
        "### Faixa etária com índices de suícidio no Brasil\n",
        "\n",
        "Foi criada uma tabela dinâmica (*pivot table*) para analisar as 6 faixas etárias em função do ano e do número de suicídios por 100 mil habitantes. \n",
        "\n",
        "O principal objetivo é identificar qual a faixa etária que tem a maior representatividade entre aqueles que tiram a própria vida, e identificar se houve alguma mudança no perfil ao longo de 30 anos."
      ],
      "metadata": {
        "id": "3tmjic3r0W0x"
      }
    },
    {
      "cell_type": "code",
      "source": [
        "#Criar Tabela Dinâmica\n",
        "table = pd.pivot_table(df_br, values='suicides_no', index=['year'], columns=['age'])\n",
        "\n",
        "#Reodernar tabelas para deixar em ordem crescente\n",
        "column_order=['5-14 years', '15-24 years', '25-34 years', '35-54 years', '55-74 years', '75+ years']\n",
        "table = table.reindex(column_order, axis=1)\n",
        "\n",
        "#Ver entradas\n",
        "table.head()"
      ],
      "metadata": {
        "id": "taYZ9EOw0rFg",
        "colab": {
          "base_uri": "https://localhost:8080/",
          "height": 237
        },
        "outputId": "7ba73bce-0c0e-4211-802f-4cae102052e8"
      },
      "execution_count": null,
      "outputs": [
        {
          "output_type": "execute_result",
          "data": {
            "text/plain": [
              "age   5-14 years  15-24 years  25-34 years  35-54 years  55-74 years  \\\n",
              "year                                                                   \n",
              "1985        38.0        470.5        530.0        653.5        341.5   \n",
              "1986        31.0        508.0        505.5        651.0        372.0   \n",
              "1987        33.5        502.0        565.5        724.5        422.0   \n",
              "1988        30.0        472.0        557.5        724.0        356.0   \n",
              "1989        31.5        491.5        569.0        692.5        354.5   \n",
              "\n",
              "age   75+ years  \n",
              "year             \n",
              "1985       80.5  \n",
              "1986       68.0  \n",
              "1987       88.5  \n",
              "1988       93.5  \n",
              "1989       92.5  "
            ],
            "text/html": [
              "\n",
              "  <div id=\"df-82ea04f6-9cf1-4064-b1c8-c3004624a9bb\">\n",
              "    <div class=\"colab-df-container\">\n",
              "      <div>\n",
              "<style scoped>\n",
              "    .dataframe tbody tr th:only-of-type {\n",
              "        vertical-align: middle;\n",
              "    }\n",
              "\n",
              "    .dataframe tbody tr th {\n",
              "        vertical-align: top;\n",
              "    }\n",
              "\n",
              "    .dataframe thead th {\n",
              "        text-align: right;\n",
              "    }\n",
              "</style>\n",
              "<table border=\"1\" class=\"dataframe\">\n",
              "  <thead>\n",
              "    <tr style=\"text-align: right;\">\n",
              "      <th>age</th>\n",
              "      <th>5-14 years</th>\n",
              "      <th>15-24 years</th>\n",
              "      <th>25-34 years</th>\n",
              "      <th>35-54 years</th>\n",
              "      <th>55-74 years</th>\n",
              "      <th>75+ years</th>\n",
              "    </tr>\n",
              "    <tr>\n",
              "      <th>year</th>\n",
              "      <th></th>\n",
              "      <th></th>\n",
              "      <th></th>\n",
              "      <th></th>\n",
              "      <th></th>\n",
              "      <th></th>\n",
              "    </tr>\n",
              "  </thead>\n",
              "  <tbody>\n",
              "    <tr>\n",
              "      <th>1985</th>\n",
              "      <td>38.0</td>\n",
              "      <td>470.5</td>\n",
              "      <td>530.0</td>\n",
              "      <td>653.5</td>\n",
              "      <td>341.5</td>\n",
              "      <td>80.5</td>\n",
              "    </tr>\n",
              "    <tr>\n",
              "      <th>1986</th>\n",
              "      <td>31.0</td>\n",
              "      <td>508.0</td>\n",
              "      <td>505.5</td>\n",
              "      <td>651.0</td>\n",
              "      <td>372.0</td>\n",
              "      <td>68.0</td>\n",
              "    </tr>\n",
              "    <tr>\n",
              "      <th>1987</th>\n",
              "      <td>33.5</td>\n",
              "      <td>502.0</td>\n",
              "      <td>565.5</td>\n",
              "      <td>724.5</td>\n",
              "      <td>422.0</td>\n",
              "      <td>88.5</td>\n",
              "    </tr>\n",
              "    <tr>\n",
              "      <th>1988</th>\n",
              "      <td>30.0</td>\n",
              "      <td>472.0</td>\n",
              "      <td>557.5</td>\n",
              "      <td>724.0</td>\n",
              "      <td>356.0</td>\n",
              "      <td>93.5</td>\n",
              "    </tr>\n",
              "    <tr>\n",
              "      <th>1989</th>\n",
              "      <td>31.5</td>\n",
              "      <td>491.5</td>\n",
              "      <td>569.0</td>\n",
              "      <td>692.5</td>\n",
              "      <td>354.5</td>\n",
              "      <td>92.5</td>\n",
              "    </tr>\n",
              "  </tbody>\n",
              "</table>\n",
              "</div>\n",
              "      <button class=\"colab-df-convert\" onclick=\"convertToInteractive('df-82ea04f6-9cf1-4064-b1c8-c3004624a9bb')\"\n",
              "              title=\"Convert this dataframe to an interactive table.\"\n",
              "              style=\"display:none;\">\n",
              "        \n",
              "  <svg xmlns=\"http://www.w3.org/2000/svg\" height=\"24px\"viewBox=\"0 0 24 24\"\n",
              "       width=\"24px\">\n",
              "    <path d=\"M0 0h24v24H0V0z\" fill=\"none\"/>\n",
              "    <path d=\"M18.56 5.44l.94 2.06.94-2.06 2.06-.94-2.06-.94-.94-2.06-.94 2.06-2.06.94zm-11 1L8.5 8.5l.94-2.06 2.06-.94-2.06-.94L8.5 2.5l-.94 2.06-2.06.94zm10 10l.94 2.06.94-2.06 2.06-.94-2.06-.94-.94-2.06-.94 2.06-2.06.94z\"/><path d=\"M17.41 7.96l-1.37-1.37c-.4-.4-.92-.59-1.43-.59-.52 0-1.04.2-1.43.59L10.3 9.45l-7.72 7.72c-.78.78-.78 2.05 0 2.83L4 21.41c.39.39.9.59 1.41.59.51 0 1.02-.2 1.41-.59l7.78-7.78 2.81-2.81c.8-.78.8-2.07 0-2.86zM5.41 20L4 18.59l7.72-7.72 1.47 1.35L5.41 20z\"/>\n",
              "  </svg>\n",
              "      </button>\n",
              "      \n",
              "  <style>\n",
              "    .colab-df-container {\n",
              "      display:flex;\n",
              "      flex-wrap:wrap;\n",
              "      gap: 12px;\n",
              "    }\n",
              "\n",
              "    .colab-df-convert {\n",
              "      background-color: #E8F0FE;\n",
              "      border: none;\n",
              "      border-radius: 50%;\n",
              "      cursor: pointer;\n",
              "      display: none;\n",
              "      fill: #1967D2;\n",
              "      height: 32px;\n",
              "      padding: 0 0 0 0;\n",
              "      width: 32px;\n",
              "    }\n",
              "\n",
              "    .colab-df-convert:hover {\n",
              "      background-color: #E2EBFA;\n",
              "      box-shadow: 0px 1px 2px rgba(60, 64, 67, 0.3), 0px 1px 3px 1px rgba(60, 64, 67, 0.15);\n",
              "      fill: #174EA6;\n",
              "    }\n",
              "\n",
              "    [theme=dark] .colab-df-convert {\n",
              "      background-color: #3B4455;\n",
              "      fill: #D2E3FC;\n",
              "    }\n",
              "\n",
              "    [theme=dark] .colab-df-convert:hover {\n",
              "      background-color: #434B5C;\n",
              "      box-shadow: 0px 1px 3px 1px rgba(0, 0, 0, 0.15);\n",
              "      filter: drop-shadow(0px 1px 2px rgba(0, 0, 0, 0.3));\n",
              "      fill: #FFFFFF;\n",
              "    }\n",
              "  </style>\n",
              "\n",
              "      <script>\n",
              "        const buttonEl =\n",
              "          document.querySelector('#df-82ea04f6-9cf1-4064-b1c8-c3004624a9bb button.colab-df-convert');\n",
              "        buttonEl.style.display =\n",
              "          google.colab.kernel.accessAllowed ? 'block' : 'none';\n",
              "\n",
              "        async function convertToInteractive(key) {\n",
              "          const element = document.querySelector('#df-82ea04f6-9cf1-4064-b1c8-c3004624a9bb');\n",
              "          const dataTable =\n",
              "            await google.colab.kernel.invokeFunction('convertToInteractive',\n",
              "                                                     [key], {});\n",
              "          if (!dataTable) return;\n",
              "\n",
              "          const docLinkHtml = 'Like what you see? Visit the ' +\n",
              "            '<a target=\"_blank\" href=https://colab.research.google.com/notebooks/data_table.ipynb>data table notebook</a>'\n",
              "            + ' to learn more about interactive tables.';\n",
              "          element.innerHTML = '';\n",
              "          dataTable['output_type'] = 'display_data';\n",
              "          await google.colab.output.renderOutput(dataTable, element);\n",
              "          const docLink = document.createElement('div');\n",
              "          docLink.innerHTML = docLinkHtml;\n",
              "          element.appendChild(docLink);\n",
              "        }\n",
              "      </script>\n",
              "    </div>\n",
              "  </div>\n",
              "  "
            ]
          },
          "metadata": {},
          "execution_count": 38
        }
      ]
    },
    {
      "cell_type": "code",
      "source": [
        "#Plotar Pivot Table\n",
        "table.plot.bar(stacked=True, figsize=(16,8))\n",
        "plt.legend(title='Idade');"
      ],
      "metadata": {
        "colab": {
          "base_uri": "https://localhost:8080/",
          "height": 512
        },
        "id": "WDPsJwT15ko8",
        "outputId": "6a3ce6ec-4e77-4cb5-9e52-f3585b38af28"
      },
      "execution_count": null,
      "outputs": [
        {
          "output_type": "display_data",
          "data": {
            "text/plain": [
              "<Figure size 1152x576 with 1 Axes>"
            ],
            "image/png": "[encoded data removed]"
          },
          "metadata": {
            "needs_background": "light"
          }
        }
      ]
    },
    {
      "cell_type": "code",
      "source": [
        "# ÍNDICE DE SUICÍDIO POR FAIXA ETÁRIA\n",
        "idade = df_br.groupby('age')['suicides_no'].sum().sort_values(ascending = False)\n",
        "eixox = idade.index\n",
        "\n",
        "plt.figure(figsize = (10,6))\n",
        "sns.barplot(x = eixox, y = idade, palette='Wistia_r')\n",
        "plt.title('Índice de Suicídio')\n",
        "plt.xlabel('Faixa Etária')\n",
        "plt.ylabel('Núemro de suicídios')\n",
        "\n",
        "plt.tight_layout()"
      ],
      "metadata": {
        "colab": {
          "base_uri": "https://localhost:8080/",
          "height": 441
        },
        "id": "0t0gLxcBy4Ee",
        "outputId": "574d9d19-bff0-4e2c-f766-258b7466a7f7"
      },
      "execution_count": null,
      "outputs": [
        {
          "output_type": "display_data",
          "data": {
            "text/plain": [
              "<Figure size 720x432 with 1 Axes>"
            ],
            "image/png": "[encoded data removed]"
          },
          "metadata": {
            "needs_background": "light"
          }
        }
      ]
    },
    {
      "cell_type": "markdown",
      "source": [
        "Analisando os dados de 2015 pode-se perceber que o grupo de pessoas que mais cometem suicídio está entre 35-54 anos. Em segundo lugar, estão pessoas entre 25-34 anos de idade. Juntos, esses dois grupos correspondem a quase 60% dos registros do banco de dados."
      ],
      "metadata": {
        "id": "LRXLsfrG6nc6"
      }
    },
    {
      "cell_type": "code",
      "source": [
        "#Estatística por faixa etária em 2015\n",
        "print ('Estatística por faixa etária para 2015')\n",
        "table[['25-34 years']].loc[2015]\n",
        "table.loc[2015] / table.loc[2015].sum()"
      ],
      "metadata": {
        "colab": {
          "base_uri": "https://localhost:8080/"
        },
        "id": "-P4UgImL68TL",
        "outputId": "885bebc0-0603-4a33-ff05-d25bc3a84553"
      },
      "execution_count": null,
      "outputs": [
        {
          "output_type": "stream",
          "name": "stdout",
          "text": [
            "Estatística por faixa etária para 2015\n"
          ]
        },
        {
          "output_type": "execute_result",
          "data": {
            "text/plain": [
              "age\n",
              "5-14 years     0.012094\n",
              "15-24 years    0.159993\n",
              "25-34 years    0.211681\n",
              "35-54 years    0.371585\n",
              "55-74 years    0.194571\n",
              "75+ years      0.050076\n",
              "Name: 2015, dtype: float64"
            ]
          },
          "metadata": {},
          "execution_count": 40
        }
      ]
    },
    {
      "cell_type": "markdown",
      "source": [
        "Um outro ponto que vale a pena ressaltar é o aumento de casos entre pessoas acima de 55 anos. Em 1985, as pessoas com mais idade representavam uma pequena fatia do número total.\n",
        "\n",
        "Entretanto, em 2015 é nítido que mesmo para pessoas acima de 75 anos houve um incremento significativo no número de suicídios.\n",
        "\n",
        "Para se inferir a causa dessa mudança de padrão, é necessário se avaliar mais profundamente questões que vão além dos números (como exemplo, fatores qualitativos, momento econômico do país e a cultura dominante de cada época).\n",
        "\n",
        "É necessário um estudo mais de humanas do que de exatas para entender melhor esse comportamento."
      ],
      "metadata": {
        "id": "2cW1pLhX9XqH"
      }
    },
    {
      "cell_type": "markdown",
      "source": [
        "### Taxa de suicídio entre homens e mulheres\n",
        "\n",
        "Analisando-se todo o período, o *dataset* utilizado mostrou que aproximadamente 78% dos casos foram cometidos por homens e 22% deles por mulheres. Optou-se por pegar a média dos 30 anos, pois não houve mudança significativa desse comportamento durante o período.\n",
        "\n",
        "*Importante:* Na base de dados utilizada, não foi encontrada uma variável que pudesse especificar se a pessoa que morreu de suicídio se identificava como cis ou como trans."
      ],
      "metadata": {
        "id": "JwG1BFJn9p4S"
      }
    },
    {
      "cell_type": "code",
      "source": [
        "#Extrair valores entre homens e mulheres\n",
        "homens_mulheres = df_br.groupby('sex').suicides_no.sum() / df_br.groupby('sex').suicides_no.sum().sum()\n",
        "\n",
        "#Plotar gráfico de pizza\n",
        "plt.pie(homens_mulheres, labels=['mulheres', 'homens'], autopct='%1.1f%%', shadow=True, colors = ['pink', 'slateblue'], explode=[0.1, 0]);"
      ],
      "metadata": {
        "colab": {
          "base_uri": "https://localhost:8080/",
          "height": 248
        },
        "id": "goDm8p5w9ong",
        "outputId": "88ddad38-3da6-4000-ea20-ef7761ec600e"
      },
      "execution_count": null,
      "outputs": [
        {
          "output_type": "display_data",
          "data": {
            "text/plain": [
              "<Figure size 432x288 with 1 Axes>"
            ],
            "image/png": "[encoded data removed]"
          },
          "metadata": {}
        }
      ]
    },
    {
      "cell_type": "markdown",
      "source": [
        "### Correlações entre o PIB, IDH e número de suicídios\n",
        "\n",
        "Criando uma matriz de correlação e plotando um *heatmap*, infere-se que o aumento no PIB per capita não diminuiu o número de suicídios por 100 mil habitantes. Na verdade, ele se manteve estável, contrariando o senso comum da maioria das pessoas.\n",
        "\n",
        "Em relação ao IDH, como foi mencionado anteriormente, há muitos valores ausentes nas células, o que pode dar uma interpretação incorreta ou com viés."
      ],
      "metadata": {
        "id": "56M1xs2k_S_S"
      }
    },
    {
      "cell_type": "code",
      "source": [
        "#Plotar heatmap\n",
        "corr = df_br.corr()\n",
        "sns.heatmap(corr, cmap=\"RdBu\", fmt='.2f', square=True, linecolor='white', annot=True);"
      ],
      "metadata": {
        "colab": {
          "base_uri": "https://localhost:8080/",
          "height": 353
        },
        "id": "gTrH4CbK_ejL",
        "outputId": "49b88eab-f258-4ce2-bad1-92ed19a74547"
      },
      "execution_count": null,
      "outputs": [
        {
          "output_type": "display_data",
          "data": {
            "text/plain": [
              "<Figure size 432x288 with 2 Axes>"
            ],
            "image/png": "[encoded data removed]"
          },
          "metadata": {
            "needs_background": "light"
          }
        }
      ]
    },
    {
      "cell_type": "markdown",
      "source": [
        "##Conclusões\n",
        "Em termos a cada 100 mil habitantes o Brasil é o 8º país com mais suicídios. \n",
        "\n",
        "Enquanto o mundo está conseguindo diminuir as taxas de suicídio, o Brasil enfrenta dificuldades para evitar o crescimento ano após ano.\n",
        "\n",
        "Um dos alertas para a sociedade é a alta taxa de suicídio entre idosos com mais de 75 anos.\n",
        "\n",
        "Dentre as vítimas no Brasil:\n",
        "* 78.4% são Homens;\n",
        "* Faixa etária de 35–54 anos (37,15%) e 25–34 anos (21.16%);\n",
        "\n",
        "Em relação ao PIB e a taxa de suicidio no Brasil podemos confirmar que não há uma forte correlação a respeito dos dois fatores."
      ],
      "metadata": {
        "id": "Jh78XPEQGd0a"
      }
    },
    {
      "cell_type": "markdown",
      "source": [
        "#Considerações\n",
        "\n",
        "O que eu quis trazer neste artigo foi um projeto de análise de dados visando conscientizar as pessoas sobre a real importância de um problema tão latente nos dias atuais.\n",
        "\n",
        "O conjunto de dados usado aqui é simplificado, porém ideal para uma abordagem inicial, para se criar uma consciência situacional a respeito do tema.\n",
        "\n",
        "Há diversas iniciativas dentro do campo da Inteligência Artificial visando não apenas a conscientização, mas também prevenção de suicídios. [Uma das mais populares diz respeito à análise de postagens em redes sociais](https://qz.com/1367197/machines-know-when-someones-about-to-attempt-suicide-how-should-we-use-that-information/), onde algoritmos de *Machine Learning* são capazes de identificar potenciais suicidas e alertar outras pessoas.\n",
        "\n",
        "> **A campanha é em setembro, mas falar sobre prevenção do suicídio em todos os meses do ano é fundamental** \n",
        "\n",
        "\n",
        "Espero que este artigo tenha trazido um pouco de conhecimento e alertado você sobre um problema tão sério. \n",
        "\n",
        "Lembre-se que não é frescura e que ninguém está querendo aparecer. Na verdade, a gente nunca tem a mínima ideia do que a outra pessoa está passando. Qualquer atitude que você tenha que possa contribuir para a prevenção do suicídio, pode significar uma vida a mais ;)"
      ],
      "metadata": {
        "id": "If5T1LSeAfIK"
      }
    },
    {
      "cell_type": "markdown",
      "source": [
        "##Projetos Futuros\n",
        "* Para a campanha de Setembro Amarelo do ano que vem ou para as proximas campanhas deste ano pretendo utilizar os Dados do DATASUS e tentar ter/extrair informações mais precisas e em maior quantidade. Seria interessante avaliar os impactos da COVID-19 e fatores economicos de 2010 até anos mais recentes;\n",
        "\n",
        "* Outra análise interessante seria avaliar as taxas de suicídio pelas gerações;\n",
        "\n",
        "* Mais pontos que poderão ser levantado é a comparação em relação à raça/cor, profissões, tipo de suicídio, tentativas de suicídio e regiões que mais possuem casos.\n",
        "\n",
        "* Em projetos futuros pretendo trabalhar em regimes de regiões: Resende, Sul Fluminense, Rio de Janeiro, Brasil, América Latina e Mundo."
      ],
      "metadata": {
        "id": "eANxz_1bGrhQ"
      }
    },
    {
      "cell_type": "markdown",
      "source": [
        "#Referência Bibliográfica\n",
        "\n",
        "https://www.bioanalise.com.br/blog/entenda-o-significado-das-cores-dos-meses-nas-campanhas-de-saude/\n",
        "\n",
        "https://fehoesp360.org.br/sindsuzano/brasil-lidera-ranking-de-depressao-e-suicidio-na-america-latina/\n",
        "\n",
        "https://www.gazetadopovo.com.br/vida-e-cidadania/brasil-e-o-8-pais-com-mais-suicidios-no-mundo-aponta-oms-ed0vyk9y35zhp8dntdba7qz4e/\n",
        "\n",
        "https://www.plural.jor.br/colunas/focanojornalismo/casos-de-suicidio-no-brasil-seguem-em-crescimento/\n",
        "\n",
        "https://jeffersonverissimo.medium.com/suic%C3%ADdio-no-brasil-an%C3%A1lise-explorat%C3%B3ria-de-dados-d4b967377a49\n",
        "\n",
        "\n",
        "\n",
        "\n",
        "A análise detalhada com passo-a-passo a partir do qual esse artigo foi escrito pode ser encontrada em maiores detalhes no meu Portfólio através do link: Setembro Amarelo: Análise exploratória dos dados de suicídio no Brasil.\n"
      ],
      "metadata": {
        "id": "rCD_h3tfkZk0"
      }
    }
  ]
}